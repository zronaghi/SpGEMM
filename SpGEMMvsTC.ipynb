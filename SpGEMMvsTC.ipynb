{
 "cells": [
  {
   "cell_type": "code",
   "execution_count": null,
   "metadata": {},
   "outputs": [],
   "source": [
    "import numpy as np"
   ]
  },
  {
   "cell_type": "code",
   "execution_count": null,
   "metadata": {},
   "outputs": [],
   "source": [
    "#A = np.ones( (100,100) )"
   ]
  },
  {
   "cell_type": "code",
   "execution_count": null,
   "metadata": {},
   "outputs": [],
   "source": [
    "#B = np.ones( (100,100) )"
   ]
  },
  {
   "cell_type": "code",
   "execution_count": null,
   "metadata": {},
   "outputs": [],
   "source": [
    "A = np.random.randint(2, size=(100,100))"
   ]
  },
  {
   "cell_type": "code",
   "execution_count": null,
   "metadata": {},
   "outputs": [],
   "source": [
    "B = np.random.randint(2, size=(100,100))"
   ]
  },
  {
   "cell_type": "code",
   "execution_count": null,
   "metadata": {},
   "outputs": [],
   "source": [
    "C1 = [[0 for x in range(100)] for y in range(100)]\n",
    "C2 = [[0 for x in range(100)] for y in range(100)]"
   ]
  },
  {
   "cell_type": "code",
   "execution_count": null,
   "metadata": {},
   "outputs": [],
   "source": [
    "# A = [ [2, 4, 6, 8 ], \n",
    "#     [ 1, 3, 5, 7 ], \n",
    "#     [ 8, 6, 4, 2 ], \n",
    "#     [ 7, 5, 3, 1 ] ]"
   ]
  },
  {
   "cell_type": "code",
   "execution_count": null,
   "metadata": {},
   "outputs": [],
   "source": [
    "# B = [ [ 2, 3, 6, 8 ], \n",
    "#     [ 1, 3, 5, 2 ], \n",
    "#     [ 8, 1, 4, 2 ], \n",
    "#     [ 3, 5, 4, 1 ] ] "
   ]
  },
  {
   "cell_type": "code",
   "execution_count": null,
   "metadata": {},
   "outputs": [],
   "source": [
    "#C1 = [[0 for x in range(4)] for y in range(4)]\n",
    "#C2 = [[0 for x in range(4)] for y in range(4)]"
   ]
  },
  {
   "cell_type": "code",
   "execution_count": null,
   "metadata": {},
   "outputs": [],
   "source": [
    "#MatrixMultiply\n",
    "\n",
    "for i in range(len(A)): \n",
    "    for j in range(len(B[0])): \n",
    "        for k in range(len(B)): \n",
    "  \n",
    "            C1[i][j] += A[i][k] * B[k][j] "
   ]
  },
  {
   "cell_type": "code",
   "execution_count": null,
   "metadata": {},
   "outputs": [],
   "source": [
    "#TriangleCounting\n",
    "\n",
    "def collect_indices_row(matrix, row, length):\n",
    "    lst = []\n",
    "    weight = []\n",
    "    for i in range(length):\n",
    "        if matrix[row][i] == 1:\n",
    "        #if matrix[row][i] != 0:\n",
    "            lst.append(i)\n",
    "            weight.append(matrix[row][i])\n",
    "    return lst, weight\n",
    "        \n",
    "def collect_indices_col(matrix, col, length):\n",
    "    lst = []\n",
    "    weight = []\n",
    "    for i in range(length):\n",
    "        if matrix[i][col] == 1:\n",
    "        #if matrix[i][col] != 0:\n",
    "            lst.append(i)\n",
    "            weight.append(matrix[i][col])\n",
    "    return lst, weight\n",
    "\n",
    "def intersectWeight(lst1,w1,len1,lst2,w2,len2):\n",
    "    pos1=0;\n",
    "    pos2=0;\n",
    "    sum=0;\n",
    "    \n",
    "    if (len1==0 or len2==0):\n",
    "         return 0\n",
    "    while(pos1<len1 and pos2<len2):\n",
    "        if(lst1[pos1]==lst2[pos2]):\n",
    "            sum = sum + w1[pos1]*w2[pos2]\n",
    "            pos1+=1\n",
    "            pos2+=1\n",
    "        elif(lst1[pos1]>lst2[pos2]):\n",
    "            pos2+=1\n",
    "        else:\n",
    "            pos1+=1\n",
    "            \n",
    "    return sum\n",
    "\n",
    "for i in range(len(A)) : \n",
    "    lsti, wi = collect_indices_row(A, i, len(A))\n",
    "    for j in range(len(B[0])) :\n",
    "        #if A[i][j] == 0:\n",
    "        #    continue\n",
    "        lstj, wj = collect_indices_col(B, j, len(B[0]))\n",
    "        #C2[i][j] = len([value for value in lsti if value in lstj])\n",
    "        C2[i][j] = intersectWeight(lsti, wi, len(lsti), lstj, wj, len(lstj))"
   ]
  },
  {
   "cell_type": "code",
   "execution_count": null,
   "metadata": {},
   "outputs": [],
   "source": [
    "print(np.subtract(C2,C1))"
   ]
  }
 ],
 "metadata": {
  "kernelspec": {
   "display_name": "Python 3",
   "language": "python",
   "name": "python3"
  },
  "language_info": {
   "codemirror_mode": {
    "name": "ipython",
    "version": 3
   },
   "file_extension": ".py",
   "mimetype": "text/x-python",
   "name": "python",
   "nbconvert_exporter": "python",
   "pygments_lexer": "ipython3",
   "version": "3.7.1"
  }
 },
 "nbformat": 4,
 "nbformat_minor": 2
}
